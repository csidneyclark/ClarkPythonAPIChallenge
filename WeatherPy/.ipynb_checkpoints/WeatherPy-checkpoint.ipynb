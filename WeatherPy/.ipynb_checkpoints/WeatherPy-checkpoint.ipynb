{
 "cells": [
  {
   "cell_type": "code",
   "execution_count": 8,
   "metadata": {},
   "outputs": [],
   "source": [
    "# Dependencies and Setup\n",
    "import matplotlib.pyplot as plt\n",
    "import pandas as pd\n",
    "import numpy as np\n",
    "import requests\n",
    "import time\n",
    "import pprint\n",
    "from scipy.stats import linregress\n",
    "\n",
    "# Import API key\n",
    "from api_keys import weather_api_key\n",
    "\n",
    "# Incorporated citipy to determine city based on latitude and longitude\n",
    "from citipy import citipy\n",
    "\n",
    "# Output File (CSV)\n",
    "output_data_file = \"output_data/cities.csv\"\n",
    "\n",
    "# Range of latitudes and longitudes\n",
    "lat_range = (-90, 90)\n",
    "lng_range = (-180, 180)"
   ]
  },
  {
   "cell_type": "code",
   "execution_count": 9,
   "metadata": {},
   "outputs": [
    {
     "data": {
      "text/plain": [
       "606"
      ]
     },
     "execution_count": 9,
     "metadata": {},
     "output_type": "execute_result"
    }
   ],
   "source": [
    "lat_lngs = []\n",
    "cities = []\n",
    "\n",
    "# Create a set of random lat and lng combinations\n",
    "lats = np.random.uniform(low=-90.000, high=90.000, size=1500)\n",
    "lngs = np.random.uniform(low=-180.000, high=180.000, size=1500)\n",
    "lat_lngs = zip(lats, lngs)\n",
    "\n",
    "# Identify nearest city for each lat, lng combination\n",
    "for lat_lng in lat_lngs:\n",
    "    city = citipy.nearest_city(lat_lng[0], lat_lng[1]).city_name\n",
    "    \n",
    "    # If the city is unique, then add it to a our cities list\n",
    "    if city not in cities:\n",
    "        cities.append(city)\n",
    "\n",
    "# Print the city count to confirm sufficient count\n",
    "len(cities)"
   ]
  },
  {
   "cell_type": "code",
   "execution_count": 10,
   "metadata": {},
   "outputs": [
    {
     "name": "stdout",
     "output_type": "stream",
     "text": [
      "{'cod': '400', 'message': 'Nothing to geocode'}\n"
     ]
    }
   ],
   "source": [
    "#BaseURL\n",
    "\n",
    "url= f\"http://api.openweathermap.org/data/2.5/weather?appid={weather_api_key}\"  \n",
    "units = \"imperial\"\n",
    "\n",
    "#Build partial query URl\n",
    "query_url = f\"{url}&q=\"\n",
    "pprint.pprint(requests.get(query_url).json())\n",
    "#print(query_url)\n"
   ]
  },
  {
   "cell_type": "code",
   "execution_count": 11,
   "metadata": {},
   "outputs": [
    {
     "name": "stdout",
     "output_type": "stream",
     "text": [
      "['avarua', 'dakar', 'rikitea', 'albany', 'harlingen', 'san patricio', 'saint-jean-port-joli', 'dikson', 'saint anthony', 'kapaa', 'kodiak', 'vaini', 'mataura', 'vitim', 'dauphin', 'ushuaia', 'lebu', 'kaohsiung', 'muros', 'snezhnogorsk', 'nagua', 'tambura', 'saint-denis', 'halifax', 'krasnoselkup', 'beyneu', 'taolanaro', 'andevoranto', 'formoso do araguaia', 'hobart', 'airai', 'tasiilaq', 'saint-leu', 'praia da vitoria', 'san-pedro', 'gornyy', 'doctor pedro p. pena', 'tsihombe', 'portland', 'nhulunbuy', 'coquimbo', 'aguimes', 'east london', 'okhotsk', 'georgetown', 'birao', 'mar del plata', 'butaritari', 'iqaluit', 'hermanus', 'busselton', 'bluff', 'port elizabeth', 'atuona', 'upernavik', 'norman wells', 'barentsburg', 'puerto ayora', 'gunjur', 'barrow', 'broome', 'narsaq', 'tabas', 'yuci', 'wahran', 'cherskiy', 'lahij', 'alofi', 'palmer', 'belushya guba', 'manjacaze', 'carnarvon', 'saleaula', 'clyde river', 'kargasok', 'cape town', 'mahebourg', 'palabuhanratu', 'cap malheureux', 'baykit', 'jalu', 'boddam', 'cabo san lucas', 'xiongyue', 'geraldton', 'hithadhoo', 'kloulklubed', 'castro', 'the valley', 'new norfolk', 'imbituba', 'saint-joseph', 'bredasdorp', 'blackwater', 'tuktoyaktuk', 'hilo', 'port alfred', 'leningradskiy', 'yulara', 'punta arenas', 'kavieng', 'qaanaaq', 'souillac', 'raudeberg', 'kodinsk', 'tiksi', 'yellowknife', 'mago', 'sorland', 'ancud', 'bethel', 'oksfjord', 'haines junction', 'nador', 'lhokseumawe', 'vila franca do campo', 'alugan', 'terra santa', 'san quintin', 'progreso', 'swellendam', 'vestmannaeyjar', 'eureka', 'thompson', 'ilulissat', 'pevek', 'mys shmidta', 'zhigansk', 'broken hill', 'nikolskoye', 'pakokku', 'vila velha', 'pisco', 'awbari', 'kilindoni', 'jiroft', 'cidreira', 'uray', 'yialos', 'jamestown', 'hvolsvollur', 'giyon', 'fort nelson', 'attawapiskat', 'tagusao', 'sao filipe', 'orangeville', 'tahoua', 'tura', 'buta', 'sentyabrskiy', 'isangel', 'sinjah', 'sao miguel do araguaia', 'hendersonville', 'namibe', 'matelandia', 'saskylakh', 'saint-francois', 'mosjoen', 'olafsvik', 'karaul', 'wakkanai', 'namatanai', 'dunedin', 'hokitika', 'kapoeta', 'talnakh', 'halalo', 'severo-kurilsk', 'tuatapere', 'tocopilla', 'adrar', 'petropavlovsk-kamchatskiy', 'north bend', 'dingle', 'mayumba', 'hasaki', 'miraflores', 'dabakala', 'samusu', 'miri', 'touros', 'yeletskiy', 'huarmey', 'alekseyevsk', 'puerto madryn', 'lavrentiya', 'korvekula', 'turtkul', 'saint-pierre', 'alingsas', 'ponta do sol', 'tidore', 'flinders', 'vardo', 'bastia', 'skvyra', 'doha', 'sinnamary', 'tiarei', 'luan', 'gisors', 'ayagoz', 'ikalamavony', 'karamay', 'araouane', 'teya', 'chapais', 'nanortalik', 'shimoda', 'northam', 'copiapo', 'college', 'kirakira', 'san luis', 'beidao', 'port hardy', 'umm jarr', 'nyuzen', 'saint george', 'basco', 'sungai siput utara', 'sungaipenuh', 'saint-philippe', 'rawson', 'gat', 'svetlaya', 'skaerbaek', 'khatanga', 'necochea', 'san policarpo', 'atoka', 'kruisfontein', 'bengkulu', 'trebnje', 'galveston', 'kaitangata', 'chokurdakh', 'saint-augustin', 'port lincoln', 'sungairaya', 'victoria', 'mucurapo', 'vuktyl', 'westport', 'bathsheba', 'caravelas', 'torbay', 'sechura', 'sale', 'rafraf', 'bolungarvik', 'klaksvik', 'richards bay', 'shelburne', 'arlit', 'tazovskiy', 'nizhneyansk', 'ust-maya', 'christchurch', 'clarence town', 'longyearbyen', 'machilipatnam', 'luderitz', 'rincon', 'evensk', 'fortuna', 'tarakan', 'huaihua', 'sabha', 'harper', 'amderma', 'drayton valley', 'faranah', 'ciudad bolivar', 'codrington', 'mahibadhoo', 'marcona', 'barcelona', 'nurota', 'kez', 'port-gentil', 'orgun', 'uyemskiy', 'plouzane', 'provideniya', 'yantal', 'stornoway', 'deputatskiy', 'okha', 'burgthann', 'zaruma', 'berlevag', 'ruatoria', 'srednekolymsk', 'wakema', 'lufilufi', 'melfi', 'troitsko-pechorsk', 'baisha', 'solnechnyy', 'faanui', 'chengzihe', 'banjar', 'yar-sale', 'jiayuguan', 'la tuque', 'ixtapa', 'saldanha', 'loei', 'illoqqortoormiut', 'mogadishu', 'koroni', 'viedma', 'san miguel', 'seoul', 'inongo', 'baglan', 'padang', 'catamarca', 'dukat', 'satipo', 'willowmore', 'esperance', 'rapid valley', 'manakara', 'chlorakas', 'conil', 'ust-nera', 'polyarnyy', 'sabang', 'tamala', 'adeje', 'ngukurr', 'howard springs', 'avera', 'buchanan', 'sakakah', 'korla', 'arraial do cabo', 'tamandare', 'bargal', 'kupang', 'jaisalmer', 'wulanhaote', 'lompoc', 'thinadhoo', 'at-bashi', 'algiers', 'yunjinghong', 'cabedelo', 'constitucion', 'veraval', 'phu khieo', 'paamiut', 'batesville', 'zhemchuzhnyy', 'karratha', 'sarangani', 'tongren', 'kattivakkam', 'sedelnikovo', 'hambantota', 'kieta', 'bend', 'forestville', 'brazzaville', 'sompeta', 'matay', 'alfred', 'warqla', 'anadyr', 'sitka', 'corinto', 'iwanai', 'balikpapan', 'lida', 'camopi', 'bitung', 'bara', 'mountain home', 'tabiauea', 'laguna', 'boguchany', 'liaozhong', 'oktyabrskiy', 'limbang', 'san rafael', 'hundorp', 'malazgirt', 'inhambane', 'vostok', 'vestbygda', 'coihueco', 'ambodifototra', 'te anau', 'ahipara', 'denpasar', 'cabinda', 'diamantino', 'mastic beach', 'saint-felicien', 'bandarbeyla', 'kadykchan', 'istok', 'great yarmouth', 'mbanza-ngungu', 'novo cruzeiro', 'riverton', 'roma', 'cumaribo', 'umzimvubu', 'jiddah', 'katherine', 'bristol', 'puerto cabezas', 'mullaitivu', 'ribeira grande', 'devils lake', 'ouadda', 'jinsha', 'ketchikan', 'toftir', 'gunnedah', 'moissala', 'fairbanks', 'hailar', 'port macquarie', 'lagoa', 'livani', 'ulaangom', 'sobolevo', 'ligaya', 'santa cruz', 'kamenskoye', 'atherton', 'nanning', 'kalengwa', 'brae', 'kavaratti', 'eldikan', 'borgosesia', 'najran', 'byron bay', 'half moon bay', 'stara vyzhivka', 'kunyang', 'vaitupu', 'uarini', 'cockburn town', 'komsomolskiy', 'marawi', 'campbell river', 'coihaique', 'warwick', 'inuvik', 'minab', 'kasongo-lunda', 'safaga', 'athabasca', 'puerto pinasco', 'atar', 'lata', 'yafran', 'biak', 'bonthe', 'henties bay', 'shubarkuduk', 'labrea', 'hirado', 'jiazi', 'husavik', 'guarapari', 'opuwo', 'noumea', 'nome', 'rosario', 'altay', 'fuyu', 'mildura', 'kubrat', 'hvide sande', 'partizansk', 'pemberton', 'kaya', 'grand river south east', 'alyangula', 'karaton', 'ventspils', 'nishihara', 'hofn', 'genhe', 'cheuskiny', 'fazalpur', 'ilhabela', 'tual', 'kolondieba', 'maslovskiy', 'pathein', 'muisne', 'egvekinot', 'khorramshahr', 'sorkjosen', 'niefern-oschelbronn', 'thunder bay', 'haibowan', 'callaway', 'mehamn', 'tandalti', 'camana', 'carlisle', 'gazli', 'iracoubo', 'quatre cocos', 'ballina', 'thurso', 'mount gambier', 'alghero', 'renqiu', 'kharan', 'aykhal', 'abnub', 'chuy', 'orlik', 'skara', 'high level', 'la ronge', 'kjollefjord', 'bawku', 'macapa', 'zhanaozen', 'hoopstad', 'sann', 'arenapolis', 'makakilo city', 'katsuura', 'khuzhir', 'poli', 'guerrero negro', 'svetlyy', 'marzuq', 'banda aceh', 'price', 'geilo', 'durazno', 'beipiao', 'porbandar', 'zyryanka', 'esqueda', 'port hedland', 'riyadh', 'bambous virieux', 'maraba', 'ostrogozhsk', 'ostrovnoy', 'moranbah', 'hof', 'liverpool', 'coahuayana', 'diffa', 'morlaix', 'rocha', 'benjamin aceval', 'whitehorse', 'sampit', 'yarmouth', 'hassleholm', 'canton', 'cayenne', 'camacha', 'bugene', 'plerin', 'sarankhola', 'mount isa', 'steamboat springs', 'los llanos de aridane', 'vila', 'labutta', 'marsh harbour', 'kita', 'buraydah', 'rio grande', 'ozernovskiy', 'te karaka', 'naze', 'novoagansk', 'tunxi', 'itarema', 'kerteh', 'alta floresta', 'flin flon', 'iraucuba', 'dudinka', 'ossora', 'malakal', 'islahiye', 'venado tuerto', 'shuyskoye', 'skibbereen', 'lampazos de naranjo', 'grand gaube', 'sao joao da barra', 'kimbe', 'kutum', 'acapulco']\n"
     ]
    }
   ],
   "source": [
    "print(cities)"
   ]
  },
  {
   "cell_type": "code",
   "execution_count": 12,
   "metadata": {},
   "outputs": [
    {
     "name": "stdout",
     "output_type": "stream",
     "text": [
      "The latitude information received is: -21.21\n",
      "The latitude information received is: 14.69\n",
      "The latitude information received is: -23.12\n",
      "The latitude information received is: 42.6\n",
      "The latitude information received is: 26.19\n",
      "The latitude information received is: 19.22\n",
      "The latitude information received is: 47.22\n",
      "The latitude information received is: 73.51\n",
      "The latitude information received is: 45.02\n",
      "The latitude information received is: 22.08\n",
      "The latitude information received is: 57.79\n",
      "The latitude information received is: -21.2\n",
      "The latitude information received is: -46.19\n",
      "The latitude information received is: 59.45\n",
      "The latitude information received is: 51.15\n",
      "The latitude information received is: -54.8\n",
      "The latitude information received is: -37.62\n",
      "The latitude information received is: 22.62\n",
      "The latitude information received is: 42.78\n",
      "The latitude information received is: 69.19\n",
      "The latitude information received is: 19.38\n",
      "The latitude information received is: 5.6\n",
      "The latitude information received is: 48.92\n",
      "The latitude information received is: 44.65\n",
      "The latitude information received is: 65.7\n",
      "The latitude information received is: 45.32\n",
      "City is not found\n",
      "City is not found\n",
      "City is not found\n",
      "The latitude information received is: -42.88\n",
      "The latitude information received is: -8.93\n",
      "The latitude information received is: 65.61\n",
      "The latitude information received is: -21.15\n",
      "The latitude information received is: 38.73\n",
      "The latitude information received is: 4.75\n",
      "The latitude information received is: 55.12\n",
      "City is not found\n",
      "City is not found\n",
      "The latitude information received is: 45.52\n",
      "The latitude information received is: -12.23\n",
      "The latitude information received is: -29.95\n",
      "The latitude information received is: 27.91\n",
      "The latitude information received is: -33.02\n",
      "The latitude information received is: 59.38\n",
      "The latitude information received is: 5.41\n",
      "The latitude information received is: 10.28\n",
      "The latitude information received is: -38\n",
      "The latitude information received is: 3.07\n",
      "The latitude information received is: 63.75\n",
      "The latitude information received is: -34.42\n",
      "The latitude information received is: -33.65\n",
      "The latitude information received is: -46.6\n",
      "The latitude information received is: -33.92\n",
      "The latitude information received is: -9.8\n",
      "The latitude information received is: 72.79\n",
      "The latitude information received is: 65.28\n",
      "City is not found\n",
      "The latitude information received is: -0.74\n",
      "The latitude information received is: 13.2\n",
      "The latitude information received is: 71.29\n",
      "The latitude information received is: 42.25\n",
      "The latitude information received is: 60.92\n",
      "The latitude information received is: 33.6\n",
      "The latitude information received is: 37.68\n",
      "City is not found\n",
      "The latitude information received is: 68.75\n",
      "The latitude information received is: 13.17\n",
      "The latitude information received is: -19.06\n",
      "The latitude information received is: 42.16\n",
      "City is not found\n",
      "The latitude information received is: -24.71\n",
      "The latitude information received is: -24.87\n",
      "City is not found\n",
      "The latitude information received is: 70.47\n",
      "The latitude information received is: 59.06\n",
      "The latitude information received is: -33.93\n",
      "The latitude information received is: -20.41\n",
      "City is not found\n",
      "The latitude information received is: -19.98\n",
      "The latitude information received is: 61.67\n",
      "The latitude information received is: 29.03\n",
      "The latitude information received is: 57.47\n",
      "The latitude information received is: 22.89\n",
      "The latitude information received is: 40.18\n",
      "The latitude information received is: -28.77\n",
      "The latitude information received is: -0.6\n",
      "The latitude information received is: 7.04\n",
      "The latitude information received is: -24.79\n",
      "The latitude information received is: 18.22\n",
      "The latitude information received is: -42.78\n",
      "The latitude information received is: -28.24\n",
      "The latitude information received is: -21.37\n",
      "The latitude information received is: -34.53\n",
      "The latitude information received is: -23.58\n",
      "The latitude information received is: 69.45\n",
      "The latitude information received is: 19.73\n",
      "The latitude information received is: -33.59\n",
      "The latitude information received is: 69.38\n",
      "The latitude information received is: -25.24\n",
      "The latitude information received is: -53.15\n",
      "The latitude information received is: -2.57\n",
      "The latitude information received is: 77.48\n",
      "The latitude information received is: -20.52\n",
      "The latitude information received is: 61.99\n",
      "The latitude information received is: 58.69\n",
      "The latitude information received is: 71.69\n",
      "The latitude information received is: 62.46\n",
      "The latitude information received is: 53.25\n",
      "The latitude information received is: 67.67\n",
      "The latitude information received is: -41.87\n",
      "The latitude information received is: 41.37\n",
      "The latitude information received is: 70.24\n",
      "The latitude information received is: 60.75\n",
      "The latitude information received is: 35.17\n",
      "The latitude information received is: 5.18\n",
      "The latitude information received is: 37.72\n",
      "The latitude information received is: 12.22\n",
      "The latitude information received is: -2.1\n",
      "The latitude information received is: 30.48\n",
      "The latitude information received is: 21.28\n",
      "The latitude information received is: -34.02\n",
      "The latitude information received is: 63.44\n",
      "The latitude information received is: 40.8\n",
      "The latitude information received is: 55.74\n",
      "The latitude information received is: 69.22\n",
      "The latitude information received is: 69.7\n",
      "City is not found\n",
      "The latitude information received is: 66.77\n",
      "The latitude information received is: -31.95\n",
      "The latitude information received is: 59.7\n",
      "The latitude information received is: 21.33\n",
      "The latitude information received is: -20.33\n",
      "The latitude information received is: -13.7\n",
      "The latitude information received is: 26.59\n",
      "The latitude information received is: -7.91\n",
      "City is not found\n",
      "The latitude information received is: -30.18\n",
      "The latitude information received is: 60.12\n",
      "City is not found\n",
      "The latitude information received is: 42.1\n",
      "The latitude information received is: 63.75\n",
      "The latitude information received is: 8.53\n",
      "The latitude information received is: 58.81\n",
      "City is not found\n",
      "The latitude information received is: 9.19\n",
      "The latitude information received is: 14.9\n",
      "The latitude information received is: 43.92\n",
      "The latitude information received is: 14.89\n",
      "The latitude information received is: 25.52\n",
      "The latitude information received is: 2.79\n",
      "City is not found\n",
      "The latitude information received is: -19.55\n",
      "City is not found\n",
      "The latitude information received is: -13.28\n",
      "The latitude information received is: 36.3\n",
      "The latitude information received is: -15.2\n",
      "The latitude information received is: -25.24\n",
      "The latitude information received is: 71.92\n",
      "The latitude information received is: 46.42\n",
      "The latitude information received is: 65.84\n",
      "The latitude information received is: 64.89\n",
      "City is not found\n",
      "The latitude information received is: 45.41\n",
      "The latitude information received is: -3.67\n",
      "The latitude information received is: -45.87\n",
      "The latitude information received is: -42.72\n",
      "The latitude information received is: 4.77\n",
      "The latitude information received is: 69.49\n",
      "City is not found\n",
      "The latitude information received is: 50.68\n",
      "The latitude information received is: -46.13\n",
      "The latitude information received is: -22.09\n",
      "The latitude information received is: 20.5\n",
      "The latitude information received is: 53.05\n",
      "The latitude information received is: 43.41\n",
      "The latitude information received is: 11\n",
      "The latitude information received is: -3.43\n",
      "The latitude information received is: 35.73\n",
      "The latitude information received is: 19.22\n",
      "The latitude information received is: 8.37\n",
      "City is not found\n",
      "The latitude information received is: 4.41\n",
      "The latitude information received is: -5.2\n",
      "City is not found\n",
      "The latitude information received is: -10.07\n",
      "The latitude information received is: 57.84\n",
      "The latitude information received is: -42.77\n",
      "The latitude information received is: 65.58\n",
      "City is not found\n",
      "City is not found\n",
      "The latitude information received is: -21.34\n",
      "The latitude information received is: 57.93\n",
      "The latitude information received is: 32.67\n",
      "City is not found\n",
      "The latitude information received is: -34.58\n",
      "The latitude information received is: 70.37\n",
      "The latitude information received is: 42.67\n",
      "The latitude information received is: 49.73\n",
      "The latitude information received is: 25.29\n",
      "The latitude information received is: 5.38\n"
     ]
    },
    {
     "name": "stdout",
     "output_type": "stream",
     "text": [
      "The latitude information received is: -17.53\n",
      "The latitude information received is: 46.36\n",
      "The latitude information received is: 49.28\n",
      "The latitude information received is: 47.97\n",
      "The latitude information received is: -21.15\n",
      "City is not found\n",
      "The latitude information received is: 18.9\n",
      "The latitude information received is: 60.38\n",
      "The latitude information received is: 49.78\n",
      "The latitude information received is: 60.14\n",
      "The latitude information received is: 34.67\n",
      "The latitude information received is: 51.03\n",
      "The latitude information received is: -27.37\n",
      "The latitude information received is: 64.86\n",
      "The latitude information received is: -10.45\n",
      "The latitude information received is: -33.3\n",
      "The latitude information received is: 34.57\n",
      "The latitude information received is: 50.7\n",
      "City is not found\n",
      "The latitude information received is: 36.93\n",
      "The latitude information received is: 37.1\n",
      "The latitude information received is: 20.45\n",
      "City is not found\n",
      "The latitude information received is: -2.08\n",
      "The latitude information received is: -21.36\n",
      "The latitude information received is: -43.3\n",
      "The latitude information received is: 31.61\n",
      "The latitude information received is: 46.54\n",
      "The latitude information received is: 55.16\n",
      "The latitude information received is: 71.97\n",
      "The latitude information received is: -38.55\n",
      "The latitude information received is: 12.18\n",
      "The latitude information received is: 34.4\n",
      "The latitude information received is: -34\n",
      "The latitude information received is: -3.8\n",
      "The latitude information received is: 45.9\n",
      "The latitude information received is: 29.37\n",
      "The latitude information received is: -46.28\n",
      "The latitude information received is: 70.63\n",
      "The latitude information received is: 51.23\n",
      "The latitude information received is: -34.73\n",
      "The latitude information received is: 0.7\n",
      "The latitude information received is: 22.29\n",
      "The latitude information received is: 10.67\n",
      "The latitude information received is: 63.86\n",
      "The latitude information received is: 41.14\n",
      "The latitude information received is: 13.22\n",
      "The latitude information received is: -17.71\n",
      "The latitude information received is: 47.67\n",
      "The latitude information received is: -5.56\n",
      "The latitude information received is: 34.04\n",
      "The latitude information received is: 37.19\n",
      "City is not found\n",
      "The latitude information received is: 62.23\n",
      "The latitude information received is: -28.78\n",
      "The latitude information received is: 44.08\n",
      "The latitude information received is: 18.74\n",
      "The latitude information received is: 67.47\n",
      "City is not found\n",
      "The latitude information received is: 60.42\n",
      "The latitude information received is: -43.53\n",
      "The latitude information received is: -32.58\n",
      "The latitude information received is: 78.22\n",
      "The latitude information received is: 16.17\n",
      "The latitude information received is: -26.65\n",
      "The latitude information received is: 32.3\n",
      "The latitude information received is: 61.95\n",
      "The latitude information received is: 40.6\n",
      "The latitude information received is: 3.3\n",
      "The latitude information received is: 27.55\n",
      "The latitude information received is: 27.04\n",
      "The latitude information received is: 4.38\n",
      "City is not found\n",
      "The latitude information received is: 53.22\n",
      "The latitude information received is: 10.04\n",
      "The latitude information received is: 8.12\n",
      "The latitude information received is: -38.27\n",
      "The latitude information received is: 3.78\n",
      "City is not found\n",
      "The latitude information received is: 41.39\n",
      "The latitude information received is: 40.56\n",
      "The latitude information received is: 57.9\n",
      "The latitude information received is: -0.72\n",
      "City is not found\n",
      "The latitude information received is: 64.47\n",
      "The latitude information received is: 48.38\n",
      "The latitude information received is: 64.38\n",
      "The latitude information received is: 56.85\n",
      "The latitude information received is: 58.21\n",
      "The latitude information received is: 69.3\n",
      "The latitude information received is: 53.57\n",
      "The latitude information received is: 49.35\n",
      "The latitude information received is: -3.68\n",
      "The latitude information received is: 70.86\n",
      "City is not found\n",
      "The latitude information received is: 67.45\n",
      "The latitude information received is: 16.6\n",
      "The latitude information received is: -13.87\n",
      "The latitude information received is: 41\n",
      "The latitude information received is: 62.71\n",
      "The latitude information received is: 26.52\n",
      "The latitude information received is: 50.72\n",
      "The latitude information received is: -16.48\n",
      "The latitude information received is: 45.33\n",
      "The latitude information received is: -8.19\n",
      "The latitude information received is: 66.83\n",
      "The latitude information received is: 39.82\n",
      "The latitude information received is: 47.43\n",
      "The latitude information received is: 20.7\n",
      "The latitude information received is: -33.01\n",
      "The latitude information received is: 17.42\n",
      "City is not found\n",
      "The latitude information received is: 2.04\n",
      "The latitude information received is: 36.8\n",
      "The latitude information received is: -40.81\n",
      "The latitude information received is: 13.48\n",
      "The latitude information received is: 37.57\n",
      "The latitude information received is: -1.95\n",
      "The latitude information received is: 36.13\n",
      "The latitude information received is: -0.95\n",
      "The latitude information received is: -28.47\n",
      "The latitude information received is: 62.55\n",
      "The latitude information received is: -11.25\n",
      "The latitude information received is: -33.29\n",
      "The latitude information received is: -33.87\n",
      "The latitude information received is: 44.06\n",
      "The latitude information received is: -22.13\n",
      "The latitude information received is: 34.8\n",
      "The latitude information received is: 44.97\n",
      "The latitude information received is: 64.57\n",
      "The latitude information received is: 69.2\n",
      "The latitude information received is: 5.89\n",
      "The latitude information received is: 52.54\n",
      "The latitude information received is: 28.12\n",
      "City is not found\n",
      "The latitude information received is: -12.5\n",
      "The latitude information received is: 33.19\n",
      "The latitude information received is: 5.88\n",
      "The latitude information received is: 29.97\n",
      "The latitude information received is: 41.76\n",
      "The latitude information received is: -22.97\n",
      "The latitude information received is: -8.76\n",
      "City is not found\n",
      "The latitude information received is: -10.17\n",
      "The latitude information received is: 26.91\n",
      "City is not found\n",
      "The latitude information received is: 34.64\n",
      "The latitude information received is: 0.53\n",
      "The latitude information received is: 41.17\n",
      "The latitude information received is: 36.75\n",
      "City is not found\n",
      "The latitude information received is: -6.98\n",
      "The latitude information received is: -35.33\n",
      "The latitude information received is: 20.9\n",
      "City is not found\n",
      "The latitude information received is: 61.99\n",
      "The latitude information received is: 35.77\n",
      "City is not found\n",
      "The latitude information received is: -20.74\n",
      "The latitude information received is: 5.4\n",
      "The latitude information received is: 27.72\n",
      "The latitude information received is: 13.22\n",
      "City is not found\n",
      "The latitude information received is: 6.12\n",
      "The latitude information received is: -6.22\n",
      "The latitude information received is: 44.06\n",
      "The latitude information received is: 38.85\n",
      "The latitude information received is: -4.27\n",
      "The latitude information received is: 18.93\n",
      "The latitude information received is: 28.42\n",
      "The latitude information received is: 42.25\n",
      "City is not found\n",
      "The latitude information received is: 64.75\n",
      "The latitude information received is: 57.05\n",
      "The latitude information received is: 37.94\n",
      "The latitude information received is: 42.97\n",
      "The latitude information received is: -1.27\n",
      "The latitude information received is: 53.88\n",
      "The latitude information received is: 3.17\n",
      "The latitude information received is: 1.45\n",
      "The latitude information received is: 10.37\n",
      "The latitude information received is: 43.13\n",
      "City is not found\n",
      "The latitude information received is: 38.42\n",
      "The latitude information received is: 58.38\n",
      "The latitude information received is: 41.51\n",
      "The latitude information received is: 54.48\n",
      "The latitude information received is: 4.75\n",
      "The latitude information received is: -34.62\n",
      "The latitude information received is: 61.56\n",
      "The latitude information received is: 39.14\n",
      "The latitude information received is: -23.86\n",
      "The latitude information received is: 46.49\n",
      "City is not found\n",
      "The latitude information received is: -36.62\n",
      "City is not found\n",
      "The latitude information received is: -45.42\n",
      "The latitude information received is: -35.17\n",
      "The latitude information received is: -8.65\n"
     ]
    },
    {
     "name": "stdout",
     "output_type": "stream",
     "text": [
      "The latitude information received is: -5.55\n",
      "The latitude information received is: -14.41\n",
      "The latitude information received is: 40.77\n",
      "The latitude information received is: 48.65\n",
      "The latitude information received is: 9.49\n",
      "City is not found\n",
      "The latitude information received is: 42.78\n",
      "The latitude information received is: 52.61\n",
      "The latitude information received is: -5.25\n",
      "The latitude information received is: -17.47\n",
      "The latitude information received is: 40.52\n",
      "The latitude information received is: 43.21\n",
      "City is not found\n",
      "City is not found\n",
      "City is not found\n",
      "The latitude information received is: -14.47\n",
      "The latitude information received is: 41.83\n",
      "The latitude information received is: 14.04\n",
      "City is not found\n",
      "The latitude information received is: 38.52\n",
      "The latitude information received is: 48.11\n",
      "The latitude information received is: 8.08\n",
      "The latitude information received is: 32.09\n",
      "The latitude information received is: 55.34\n",
      "City is not found\n",
      "The latitude information received is: -30.98\n",
      "The latitude information received is: 8.34\n",
      "The latitude information received is: 64.84\n",
      "The latitude information received is: 49.2\n",
      "The latitude information received is: -31.43\n",
      "The latitude information received is: 39.05\n",
      "The latitude information received is: 56.35\n",
      "The latitude information received is: 49.98\n",
      "The latitude information received is: 54.43\n",
      "The latitude information received is: 12.66\n",
      "The latitude information received is: -17.8\n",
      "City is not found\n",
      "The latitude information received is: 53.52\n",
      "The latitude information received is: 22.82\n",
      "The latitude information received is: -13.47\n",
      "The latitude information received is: 60.4\n",
      "The latitude information received is: 10.57\n",
      "City is not found\n",
      "The latitude information received is: 45.71\n",
      "The latitude information received is: 17.49\n",
      "The latitude information received is: -28.65\n",
      "The latitude information received is: 37.46\n",
      "The latitude information received is: 51.44\n",
      "The latitude information received is: 27.67\n",
      "City is not found\n",
      "The latitude information received is: -2.99\n",
      "The latitude information received is: 21.46\n",
      "The latitude information received is: 40.43\n",
      "The latitude information received is: 8\n",
      "The latitude information received is: 50.02\n",
      "The latitude information received is: -45.58\n",
      "The latitude information received is: 41.7\n",
      "The latitude information received is: 68.35\n",
      "The latitude information received is: 27.15\n",
      "The latitude information received is: -6.47\n",
      "The latitude information received is: 26.73\n",
      "The latitude information received is: 54.72\n",
      "City is not found\n",
      "The latitude information received is: 20.52\n",
      "The latitude information received is: 40.16\n",
      "The latitude information received is: 32.06\n",
      "The latitude information received is: -0.91\n",
      "The latitude information received is: 7.53\n",
      "The latitude information received is: -22.12\n",
      "The latitude information received is: 49.14\n",
      "The latitude information received is: -7.26\n",
      "The latitude information received is: 33.36\n",
      "The latitude information received is: 22.88\n",
      "The latitude information received is: 66.04\n",
      "The latitude information received is: -20.67\n",
      "The latitude information received is: -18.06\n",
      "The latitude information received is: -22.28\n",
      "The latitude information received is: 64.5\n",
      "The latitude information received is: -32.95\n",
      "The latitude information received is: 47.87\n",
      "The latitude information received is: 45.18\n",
      "The latitude information received is: -34.2\n",
      "The latitude information received is: 43.8\n",
      "The latitude information received is: 56\n",
      "The latitude information received is: 43.13\n",
      "The latitude information received is: 50.32\n",
      "The latitude information received is: 13.09\n",
      "City is not found\n",
      "The latitude information received is: -13.85\n",
      "The latitude information received is: -6.34\n",
      "The latitude information received is: 57.39\n",
      "The latitude information received is: 26.18\n",
      "The latitude information received is: 64.25\n",
      "The latitude information received is: 50.78\n",
      "City is not found\n",
      "The latitude information received is: 32.18\n",
      "The latitude information received is: -23.78\n",
      "The latitude information received is: -5.67\n",
      "The latitude information received is: 11.09\n",
      "City is not found\n",
      "The latitude information received is: 16.78\n",
      "The latitude information received is: 0.6\n",
      "The latitude information received is: 66.32\n",
      "The latitude information received is: 30.44\n",
      "The latitude information received is: 69.8\n",
      "The latitude information received is: 48.92\n",
      "The latitude information received is: 48.4\n",
      "City is not found\n",
      "The latitude information received is: 30.15\n",
      "The latitude information received is: 71.04\n",
      "The latitude information received is: 13.02\n",
      "The latitude information received is: -16.62\n",
      "The latitude information received is: 40.2\n",
      "The latitude information received is: 40.13\n",
      "The latitude information received is: 5.48\n",
      "The latitude information received is: -20.21\n",
      "The latitude information received is: -28.87\n",
      "The latitude information received is: 58.59\n",
      "The latitude information received is: -37.83\n",
      "The latitude information received is: 40.56\n",
      "The latitude information received is: 38.7\n",
      "The latitude information received is: 28.58\n",
      "The latitude information received is: 66\n",
      "The latitude information received is: 27.27\n",
      "The latitude information received is: -33.7\n",
      "The latitude information received is: 52.52\n",
      "The latitude information received is: 58.39\n",
      "The latitude information received is: 58.52\n",
      "The latitude information received is: 55.1\n",
      "The latitude information received is: 70.95\n",
      "The latitude information received is: 11.06\n",
      "The latitude information received is: 0.04\n",
      "The latitude information received is: 43.3\n",
      "The latitude information received is: -27.83\n",
      "The latitude information received is: 26.04\n",
      "The latitude information received is: -14.45\n",
      "The latitude information received is: 21.35\n",
      "The latitude information received is: 35.13\n",
      "The latitude information received is: 53.19\n",
      "The latitude information received is: -3.33\n",
      "The latitude information received is: 27.98\n",
      "The latitude information received is: 54.67\n",
      "The latitude information received is: 14.4\n",
      "The latitude information received is: 5.56\n",
      "The latitude information received is: 39.6\n",
      "The latitude information received is: 60.53\n",
      "The latitude information received is: -33.41\n",
      "The latitude information received is: 41.79\n",
      "The latitude information received is: 21.64\n",
      "The latitude information received is: 65.75\n",
      "The latitude information received is: 30.72\n",
      "The latitude information received is: -20.32\n",
      "The latitude information received is: 24.69\n",
      "The latitude information received is: -20.34\n",
      "The latitude information received is: -5.37\n",
      "The latitude information received is: 50.87\n",
      "The latitude information received is: 68.05\n",
      "The latitude information received is: -22\n",
      "The latitude information received is: 50.32\n",
      "The latitude information received is: 53.41\n",
      "The latitude information received is: 18.73\n",
      "The latitude information received is: 13.32\n",
      "The latitude information received is: 48.58\n",
      "The latitude information received is: -34.48\n",
      "The latitude information received is: -24.97\n",
      "The latitude information received is: 60.72\n",
      "The latitude information received is: -2.53\n",
      "The latitude information received is: 41.71\n",
      "The latitude information received is: 56.16\n",
      "The latitude information received is: 23.12\n",
      "The latitude information received is: 4.93\n",
      "The latitude information received is: 33.08\n",
      "The latitude information received is: -1.59\n",
      "The latitude information received is: 48.54\n",
      "The latitude information received is: 22.31\n",
      "The latitude information received is: -20.73\n",
      "The latitude information received is: 40.48\n",
      "The latitude information received is: 28.66\n",
      "The latitude information received is: 42.03\n",
      "City is not found\n",
      "The latitude information received is: 26.54\n",
      "The latitude information received is: 13.03\n",
      "The latitude information received is: 26.33\n",
      "The latitude information received is: -32.03\n",
      "The latitude information received is: 51.5\n",
      "The latitude information received is: -38.47\n",
      "The latitude information received is: 28.37\n",
      "The latitude information received is: 61.94\n",
      "City is not found\n",
      "The latitude information received is: -2.92\n",
      "City is not found\n",
      "The latitude information received is: -9.88\n",
      "The latitude information received is: 54.77\n",
      "The latitude information received is: -3.75\n",
      "The latitude information received is: 69.41\n",
      "The latitude information received is: 59.24\n",
      "The latitude information received is: 9.53\n",
      "The latitude information received is: 37.02\n"
     ]
    },
    {
     "name": "stdout",
     "output_type": "stream",
     "text": [
      "The latitude information received is: -33.75\n",
      "The latitude information received is: 59.37\n",
      "The latitude information received is: 51.55\n",
      "The latitude information received is: 27.02\n",
      "The latitude information received is: -20.01\n",
      "The latitude information received is: -21.64\n",
      "The latitude information received is: -5.55\n",
      "The latitude information received is: 14.2\n",
      "The latitude information received is: 16.86\n"
     ]
    }
   ],
   "source": [
    " \n",
    "\n",
    "cloud=[]\n",
    "cityname=[]\n",
    "country=[]\n",
    "humid=[]\n",
    "lat = []\n",
    "longi=[]\n",
    "temp = []\n",
    "wind=[]\n",
    "count = 0\n",
    "\n",
    "# Loop through the list of cities and perform a request for data on each\n",
    "for city in cities:\n",
    "    try:\n",
    "        response = requests.get(query_url + city).json()\n",
    "        cityname.append(response['name'])\n",
    "        lat.append(response['coord']['lat'])\n",
    "        longi.append(response['coord']['lon'])\n",
    "        temp.append(response['main']['temp'])\n",
    "        humid.append(response['main']['humidity'])\n",
    "        wind.append(response['wind']['speed'])\n",
    "        cloud.append(response['clouds']['all'])\n",
    "    \n",
    "        print(f\"The latitude information received is: {lat[count]}\")\n",
    "        count = count + 1\n",
    "        \n",
    "    except KeyError:\n",
    "        print(\"City is not found\")\n",
    "    \n",
    "   \n",
    "    \n"
   ]
  },
  {
   "cell_type": "code",
   "execution_count": 13,
   "metadata": {},
   "outputs": [
    {
     "data": {
      "text/html": [
       "<div>\n",
       "<style scoped>\n",
       "    .dataframe tbody tr th:only-of-type {\n",
       "        vertical-align: middle;\n",
       "    }\n",
       "\n",
       "    .dataframe tbody tr th {\n",
       "        vertical-align: top;\n",
       "    }\n",
       "\n",
       "    .dataframe thead th {\n",
       "        text-align: right;\n",
       "    }\n",
       "</style>\n",
       "<table border=\"1\" class=\"dataframe\">\n",
       "  <thead>\n",
       "    <tr style=\"text-align: right;\">\n",
       "      <th></th>\n",
       "      <th>City</th>\n",
       "      <th>Temperature</th>\n",
       "      <th>Humidity</th>\n",
       "      <th>Cloudiness</th>\n",
       "      <th>Wind Speed</th>\n",
       "      <th>Latitude</th>\n",
       "      <th>Longitude</th>\n",
       "    </tr>\n",
       "  </thead>\n",
       "  <tbody>\n",
       "    <tr>\n",
       "      <td>0</td>\n",
       "      <td>Avarua</td>\n",
       "      <td>300.15</td>\n",
       "      <td>69</td>\n",
       "      <td>47</td>\n",
       "      <td>2.60</td>\n",
       "      <td>-21.21</td>\n",
       "      <td>-159.78</td>\n",
       "    </tr>\n",
       "    <tr>\n",
       "      <td>1</td>\n",
       "      <td>Dakar</td>\n",
       "      <td>292.74</td>\n",
       "      <td>82</td>\n",
       "      <td>45</td>\n",
       "      <td>7.20</td>\n",
       "      <td>14.69</td>\n",
       "      <td>-17.44</td>\n",
       "    </tr>\n",
       "    <tr>\n",
       "      <td>2</td>\n",
       "      <td>Rikitea</td>\n",
       "      <td>298.49</td>\n",
       "      <td>69</td>\n",
       "      <td>82</td>\n",
       "      <td>4.02</td>\n",
       "      <td>-23.12</td>\n",
       "      <td>-134.97</td>\n",
       "    </tr>\n",
       "    <tr>\n",
       "      <td>3</td>\n",
       "      <td>Albany</td>\n",
       "      <td>274.88</td>\n",
       "      <td>81</td>\n",
       "      <td>0</td>\n",
       "      <td>2.39</td>\n",
       "      <td>42.60</td>\n",
       "      <td>-73.97</td>\n",
       "    </tr>\n",
       "    <tr>\n",
       "      <td>4</td>\n",
       "      <td>Harlingen</td>\n",
       "      <td>298.47</td>\n",
       "      <td>83</td>\n",
       "      <td>40</td>\n",
       "      <td>2.60</td>\n",
       "      <td>26.19</td>\n",
       "      <td>-97.70</td>\n",
       "    </tr>\n",
       "  </tbody>\n",
       "</table>\n",
       "</div>"
      ],
      "text/plain": [
       "        City  Temperature  Humidity  Cloudiness  Wind Speed  Latitude  \\\n",
       "0     Avarua       300.15        69          47        2.60    -21.21   \n",
       "1      Dakar       292.74        82          45        7.20     14.69   \n",
       "2    Rikitea       298.49        69          82        4.02    -23.12   \n",
       "3     Albany       274.88        81           0        2.39     42.60   \n",
       "4  Harlingen       298.47        83          40        2.60     26.19   \n",
       "\n",
       "   Longitude  \n",
       "0    -159.78  \n",
       "1     -17.44  \n",
       "2    -134.97  \n",
       "3     -73.97  \n",
       "4     -97.70  "
      ]
     },
     "execution_count": 13,
     "metadata": {},
     "output_type": "execute_result"
    }
   ],
   "source": [
    "#Create data frame\n",
    "\n",
    "responses_df= pd.DataFrame({\n",
    "    'City':cityname,\n",
    "    'Temperature':temp,\n",
    "    'Humidity':humid,\n",
    "    'Cloudiness':cloud,\n",
    "    'Wind Speed':wind,\n",
    "    'Latitude':lat,\n",
    "    'Longitude': longi})\n",
    "\n",
    "responses_df.head()"
   ]
  },
  {
   "cell_type": "code",
   "execution_count": 14,
   "metadata": {},
   "outputs": [
    {
     "data": {
      "text/plain": [
       "<matplotlib.axes._subplots.AxesSubplot at 0x25d25993dc8>"
      ]
     },
     "execution_count": 14,
     "metadata": {},
     "output_type": "execute_result"
    },
    {
     "data": {
      "image/png": "[encoded data removed]",
      "text/plain": [
       "<Figure size 432x288 with 1 Axes>"
      ]
     },
     "metadata": {
      "needs_background": "light"
     },
     "output_type": "display_data"
    }
   ],
   "source": [
    "#Scatterplot showing relationship between Temperature and Latitude\n",
    "responses_df.plot.scatter('Latitude', 'Temperature',s=None,c=None,)"
   ]
  },
  {
   "cell_type": "code",
   "execution_count": 15,
   "metadata": {},
   "outputs": [
    {
     "data": {
      "text/plain": [
       "<matplotlib.axes._subplots.AxesSubplot at 0x25d25cf5d08>"
      ]
     },
     "execution_count": 15,
     "metadata": {},
     "output_type": "execute_result"
    },
    {
     "data": {
      "image/png": "[encoded data removed]",
      "text/plain": [
       "<Figure size 432x288 with 1 Axes>"
      ]
     },
     "metadata": {
      "needs_background": "light"
     },
     "output_type": "display_data"
    }
   ],
   "source": [
    "#Scatterplot showing relationship between Humidity and Latitude\n",
    "responses_df.plot.scatter('Latitude', 'Humidity',s=None,c=None,)"
   ]
  },
  {
   "cell_type": "code",
   "execution_count": 16,
   "metadata": {},
   "outputs": [
    {
     "data": {
      "text/plain": [
       "<matplotlib.axes._subplots.AxesSubplot at 0x25d25d8ca88>"
      ]
     },
     "execution_count": 16,
     "metadata": {},
     "output_type": "execute_result"
    },
    {
     "data": {
      "image/png": "[encoded data removed]",
      "text/plain": [
       "<Figure size 432x288 with 1 Axes>"
      ]
     },
     "metadata": {
      "needs_background": "light"
     },
     "output_type": "display_data"
    }
   ],
   "source": [
    "#Scatterplot showing relationship between Cloudiness and Latitude\n",
    "responses_df.plot.scatter('Latitude', 'Cloudiness',s=None,c=None,)"
   ]
  },
  {
   "cell_type": "code",
   "execution_count": 17,
   "metadata": {},
   "outputs": [
    {
     "data": {
      "text/plain": [
       "<matplotlib.axes._subplots.AxesSubplot at 0x25d25df8b88>"
      ]
     },
     "execution_count": 17,
     "metadata": {},
     "output_type": "execute_result"
    },
    {
     "data": {
      "image/png": "[encoded data removed]",
      "text/plain": [
       "<Figure size 432x288 with 1 Axes>"
      ]
     },
     "metadata": {
      "needs_background": "light"
     },
     "output_type": "display_data"
    }
   ],
   "source": [
    "#Scatterplot showing relationship between Wind Speed and Latitude\n",
    "responses_df.plot.scatter('Latitude', 'Wind Speed',s=None,c=None,)"
   ]
  },
  {
   "cell_type": "code",
   "execution_count": 18,
   "metadata": {},
   "outputs": [
    {
     "data": {
      "text/html": [
       "<div>\n",
       "<style scoped>\n",
       "    .dataframe tbody tr th:only-of-type {\n",
       "        vertical-align: middle;\n",
       "    }\n",
       "\n",
       "    .dataframe tbody tr th {\n",
       "        vertical-align: top;\n",
       "    }\n",
       "\n",
       "    .dataframe thead th {\n",
       "        text-align: right;\n",
       "    }\n",
       "</style>\n",
       "<table border=\"1\" class=\"dataframe\">\n",
       "  <thead>\n",
       "    <tr style=\"text-align: right;\">\n",
       "      <th></th>\n",
       "      <th>City</th>\n",
       "      <th>Temperature</th>\n",
       "      <th>Humidity</th>\n",
       "      <th>Cloudiness</th>\n",
       "      <th>Wind Speed</th>\n",
       "      <th>Latitude</th>\n",
       "      <th>Longitude</th>\n",
       "    </tr>\n",
       "  </thead>\n",
       "  <tbody>\n",
       "    <tr>\n",
       "      <td>0</td>\n",
       "      <td>Avarua</td>\n",
       "      <td>300.15</td>\n",
       "      <td>69</td>\n",
       "      <td>47</td>\n",
       "      <td>2.60</td>\n",
       "      <td>-21.21</td>\n",
       "      <td>-159.78</td>\n",
       "    </tr>\n",
       "    <tr>\n",
       "      <td>1</td>\n",
       "      <td>Dakar</td>\n",
       "      <td>292.74</td>\n",
       "      <td>82</td>\n",
       "      <td>45</td>\n",
       "      <td>7.20</td>\n",
       "      <td>14.69</td>\n",
       "      <td>-17.44</td>\n",
       "    </tr>\n",
       "    <tr>\n",
       "      <td>2</td>\n",
       "      <td>Rikitea</td>\n",
       "      <td>298.49</td>\n",
       "      <td>69</td>\n",
       "      <td>82</td>\n",
       "      <td>4.02</td>\n",
       "      <td>-23.12</td>\n",
       "      <td>-134.97</td>\n",
       "    </tr>\n",
       "    <tr>\n",
       "      <td>3</td>\n",
       "      <td>Albany</td>\n",
       "      <td>274.88</td>\n",
       "      <td>81</td>\n",
       "      <td>0</td>\n",
       "      <td>2.39</td>\n",
       "      <td>42.60</td>\n",
       "      <td>-73.97</td>\n",
       "    </tr>\n",
       "    <tr>\n",
       "      <td>4</td>\n",
       "      <td>Harlingen</td>\n",
       "      <td>298.47</td>\n",
       "      <td>83</td>\n",
       "      <td>40</td>\n",
       "      <td>2.60</td>\n",
       "      <td>26.19</td>\n",
       "      <td>-97.70</td>\n",
       "    </tr>\n",
       "  </tbody>\n",
       "</table>\n",
       "</div>"
      ],
      "text/plain": [
       "        City  Temperature  Humidity  Cloudiness  Wind Speed  Latitude  \\\n",
       "0     Avarua       300.15        69          47        2.60    -21.21   \n",
       "1      Dakar       292.74        82          45        7.20     14.69   \n",
       "2    Rikitea       298.49        69          82        4.02    -23.12   \n",
       "3     Albany       274.88        81           0        2.39     42.60   \n",
       "4  Harlingen       298.47        83          40        2.60     26.19   \n",
       "\n",
       "   Longitude  \n",
       "0    -159.78  \n",
       "1     -17.44  \n",
       "2    -134.97  \n",
       "3     -73.97  \n",
       "4     -97.70  "
      ]
     },
     "execution_count": 18,
     "metadata": {},
     "output_type": "execute_result"
    }
   ],
   "source": [
    "responses_df.head()\n"
   ]
  },
  {
   "cell_type": "code",
   "execution_count": 21,
   "metadata": {},
   "outputs": [
    {
     "data": {
      "text/html": [
       "<div>\n",
       "<style scoped>\n",
       "    .dataframe tbody tr th:only-of-type {\n",
       "        vertical-align: middle;\n",
       "    }\n",
       "\n",
       "    .dataframe tbody tr th {\n",
       "        vertical-align: top;\n",
       "    }\n",
       "\n",
       "    .dataframe thead th {\n",
       "        text-align: right;\n",
       "    }\n",
       "</style>\n",
       "<table border=\"1\" class=\"dataframe\">\n",
       "  <thead>\n",
       "    <tr style=\"text-align: right;\">\n",
       "      <th></th>\n",
       "      <th>City</th>\n",
       "      <th>Temperature</th>\n",
       "      <th>Humidity</th>\n",
       "      <th>Cloudiness</th>\n",
       "      <th>Wind Speed</th>\n",
       "      <th>Latitude</th>\n",
       "      <th>Longitude</th>\n",
       "    </tr>\n",
       "  </thead>\n",
       "  <tbody>\n",
       "    <tr>\n",
       "      <td>1</td>\n",
       "      <td>Dakar</td>\n",
       "      <td>292.74</td>\n",
       "      <td>82</td>\n",
       "      <td>45</td>\n",
       "      <td>7.20</td>\n",
       "      <td>14.69</td>\n",
       "      <td>-17.44</td>\n",
       "    </tr>\n",
       "    <tr>\n",
       "      <td>3</td>\n",
       "      <td>Albany</td>\n",
       "      <td>274.88</td>\n",
       "      <td>81</td>\n",
       "      <td>0</td>\n",
       "      <td>2.39</td>\n",
       "      <td>42.60</td>\n",
       "      <td>-73.97</td>\n",
       "    </tr>\n",
       "    <tr>\n",
       "      <td>4</td>\n",
       "      <td>Harlingen</td>\n",
       "      <td>298.47</td>\n",
       "      <td>83</td>\n",
       "      <td>40</td>\n",
       "      <td>2.60</td>\n",
       "      <td>26.19</td>\n",
       "      <td>-97.70</td>\n",
       "    </tr>\n",
       "    <tr>\n",
       "      <td>5</td>\n",
       "      <td>San Patricio</td>\n",
       "      <td>296.72</td>\n",
       "      <td>75</td>\n",
       "      <td>44</td>\n",
       "      <td>3.68</td>\n",
       "      <td>19.22</td>\n",
       "      <td>-104.70</td>\n",
       "    </tr>\n",
       "    <tr>\n",
       "      <td>6</td>\n",
       "      <td>St-Jean-Port-Joli</td>\n",
       "      <td>273.00</td>\n",
       "      <td>91</td>\n",
       "      <td>29</td>\n",
       "      <td>2.77</td>\n",
       "      <td>47.22</td>\n",
       "      <td>-70.27</td>\n",
       "    </tr>\n",
       "    <tr>\n",
       "      <td>...</td>\n",
       "      <td>...</td>\n",
       "      <td>...</td>\n",
       "      <td>...</td>\n",
       "      <td>...</td>\n",
       "      <td>...</td>\n",
       "      <td>...</td>\n",
       "      <td>...</td>\n",
       "    </tr>\n",
       "    <tr>\n",
       "      <td>537</td>\n",
       "      <td>Shuyskoye</td>\n",
       "      <td>275.80</td>\n",
       "      <td>77</td>\n",
       "      <td>87</td>\n",
       "      <td>0.96</td>\n",
       "      <td>59.37</td>\n",
       "      <td>41.03</td>\n",
       "    </tr>\n",
       "    <tr>\n",
       "      <td>538</td>\n",
       "      <td>Skibbereen</td>\n",
       "      <td>281.15</td>\n",
       "      <td>100</td>\n",
       "      <td>90</td>\n",
       "      <td>5.10</td>\n",
       "      <td>51.55</td>\n",
       "      <td>-9.27</td>\n",
       "    </tr>\n",
       "    <tr>\n",
       "      <td>539</td>\n",
       "      <td>Lampazos de Naranjo</td>\n",
       "      <td>297.36</td>\n",
       "      <td>70</td>\n",
       "      <td>37</td>\n",
       "      <td>3.04</td>\n",
       "      <td>27.02</td>\n",
       "      <td>-100.52</td>\n",
       "    </tr>\n",
       "    <tr>\n",
       "      <td>543</td>\n",
       "      <td>Kutum</td>\n",
       "      <td>297.53</td>\n",
       "      <td>15</td>\n",
       "      <td>43</td>\n",
       "      <td>3.31</td>\n",
       "      <td>14.20</td>\n",
       "      <td>24.67</td>\n",
       "    </tr>\n",
       "    <tr>\n",
       "      <td>544</td>\n",
       "      <td>Acapulco de Juárez</td>\n",
       "      <td>299.15</td>\n",
       "      <td>78</td>\n",
       "      <td>5</td>\n",
       "      <td>2.10</td>\n",
       "      <td>16.86</td>\n",
       "      <td>-99.89</td>\n",
       "    </tr>\n",
       "  </tbody>\n",
       "</table>\n",
       "<p>382 rows × 7 columns</p>\n",
       "</div>"
      ],
      "text/plain": [
       "                    City  Temperature  Humidity  Cloudiness  Wind Speed  \\\n",
       "1                  Dakar       292.74        82          45        7.20   \n",
       "3                 Albany       274.88        81           0        2.39   \n",
       "4              Harlingen       298.47        83          40        2.60   \n",
       "5           San Patricio       296.72        75          44        3.68   \n",
       "6      St-Jean-Port-Joli       273.00        91          29        2.77   \n",
       "..                   ...          ...       ...         ...         ...   \n",
       "537            Shuyskoye       275.80        77          87        0.96   \n",
       "538           Skibbereen       281.15       100          90        5.10   \n",
       "539  Lampazos de Naranjo       297.36        70          37        3.04   \n",
       "543                Kutum       297.53        15          43        3.31   \n",
       "544   Acapulco de Juárez       299.15        78           5        2.10   \n",
       "\n",
       "     Latitude  Longitude  \n",
       "1       14.69     -17.44  \n",
       "3       42.60     -73.97  \n",
       "4       26.19     -97.70  \n",
       "5       19.22    -104.70  \n",
       "6       47.22     -70.27  \n",
       "..        ...        ...  \n",
       "537     59.37      41.03  \n",
       "538     51.55      -9.27  \n",
       "539     27.02    -100.52  \n",
       "543     14.20      24.67  \n",
       "544     16.86     -99.89  \n",
       "\n",
       "[382 rows x 7 columns]"
      ]
     },
     "execution_count": 21,
     "metadata": {},
     "output_type": "execute_result"
    }
   ],
   "source": [
    "#Dataframes for northern and southern hemispheres\n",
    "\n",
    "northernhemi_df = responses_df.loc[responses_df[\"Latitude\"] >= 0, :]\n",
    "southernhemi_df = responses_df.loc[responses_df[\"Latitude\"] < 0, :]\n",
    "\n"
   ]
  },
  {
   "cell_type": "code",
   "execution_count": 22,
   "metadata": {},
   "outputs": [
    {
     "data": {
      "text/plain": [
       "<matplotlib.axes._subplots.AxesSubplot at 0x25d25e857c8>"
      ]
     },
     "execution_count": 22,
     "metadata": {},
     "output_type": "execute_result"
    },
    {
     "data": {
      "image/png": "[encoded data removed]",
      "text/plain": [
       "<Figure size 432x288 with 1 Axes>"
      ]
     },
     "metadata": {
      "needs_background": "light"
     },
     "output_type": "display_data"
    }
   ],
   "source": [
    "#Scatterplot showing relationship between Temperature and Latitude - NORTHERN HEMISPHERE\n",
    "northernhemi_df.plot.scatter('Latitude', 'Temperature',s=None,c=None,)"
   ]
  },
  {
   "cell_type": "code",
   "execution_count": 23,
   "metadata": {},
   "outputs": [
    {
     "data": {
      "text/plain": [
       "<matplotlib.axes._subplots.AxesSubplot at 0x25d25ee7a88>"
      ]
     },
     "execution_count": 23,
     "metadata": {},
     "output_type": "execute_result"
    },
    {
     "data": {
      "image/png": "[encoded data removed]",
      "text/plain": [
       "<Figure size 432x288 with 1 Axes>"
      ]
     },
     "metadata": {
      "needs_background": "light"
     },
     "output_type": "display_data"
    }
   ],
   "source": [
    "#Scatterplot showing relationship between Temperature and Latitude - SOUTHERN HEMISPHERE\n",
    "southernhemi_df.plot.scatter('Latitude', 'Temperature',s=None,c=None,)"
   ]
  },
  {
   "cell_type": "code",
   "execution_count": 24,
   "metadata": {},
   "outputs": [
    {
     "data": {
      "text/plain": [
       "<matplotlib.axes._subplots.AxesSubplot at 0x25d25f3f548>"
      ]
     },
     "execution_count": 24,
     "metadata": {},
     "output_type": "execute_result"
    },
    {
     "data": {
      "image/png": "[encoded data removed]",
      "text/plain": [
       "<Figure size 432x288 with 1 Axes>"
      ]
     },
     "metadata": {
      "needs_background": "light"
     },
     "output_type": "display_data"
    }
   ],
   "source": [
    "#Scatterplot showing relationship between Humidity and Latitude - NORTHERN HEMISPHERE\n",
    "northernhemi_df.plot.scatter('Latitude', 'Humidity',s=None,c=None,)"
   ]
  },
  {
   "cell_type": "code",
   "execution_count": 25,
   "metadata": {},
   "outputs": [
    {
     "data": {
      "text/plain": [
       "<matplotlib.axes._subplots.AxesSubplot at 0x25d25fa2348>"
      ]
     },
     "execution_count": 25,
     "metadata": {},
     "output_type": "execute_result"
    },
    {
     "data": {
      "image/png": "[encoded data removed]",
      "text/plain": [
       "<Figure size 432x288 with 1 Axes>"
      ]
     },
     "metadata": {
      "needs_background": "light"
     },
     "output_type": "display_data"
    }
   ],
   "source": [
    "#Scatterplot showing relationship between Humidity and Latitude - SOUTHERN HEMISPHERE\n",
    "southernhemi_df.plot.scatter('Latitude', 'Humidity',s=None,c=None,)"
   ]
  },
  {
   "cell_type": "code",
   "execution_count": 26,
   "metadata": {},
   "outputs": [
    {
     "data": {
      "text/plain": [
       "<matplotlib.axes._subplots.AxesSubplot at 0x25d25ff4e08>"
      ]
     },
     "execution_count": 26,
     "metadata": {},
     "output_type": "execute_result"
    },
    {
     "data": {
      "image/png": "[encoded data removed]",
      "text/plain": [
       "<Figure size 432x288 with 1 Axes>"
      ]
     },
     "metadata": {
      "needs_background": "light"
     },
     "output_type": "display_data"
    }
   ],
   "source": [
    "#Scatterplot showing relationship between Cloudiness and Latitude - NORTHERN HEMISPHERE\n",
    "northernhemi_df.plot.scatter('Latitude', 'Cloudiness',s=None,c=None,)"
   ]
  },
  {
   "cell_type": "code",
   "execution_count": 27,
   "metadata": {},
   "outputs": [
    {
     "data": {
      "text/plain": [
       "<matplotlib.axes._subplots.AxesSubplot at 0x25d260700c8>"
      ]
     },
     "execution_count": 27,
     "metadata": {},
     "output_type": "execute_result"
    },
    {
     "data": {
      "image/png": "[encoded data removed]",
      "text/plain": [
       "<Figure size 432x288 with 1 Axes>"
      ]
     },
     "metadata": {
      "needs_background": "light"
     },
     "output_type": "display_data"
    }
   ],
   "source": [
    "#Scatterplot showing relationship between Cloudiness and Latitude - SOUTHERN HEMISPHERE\n",
    "southernhemi_df.plot.scatter('Latitude', 'Cloudiness',s=None,c=None,)"
   ]
  },
  {
   "cell_type": "code",
   "execution_count": 28,
   "metadata": {},
   "outputs": [
    {
     "data": {
      "text/plain": [
       "<matplotlib.axes._subplots.AxesSubplot at 0x25d260d9dc8>"
      ]
     },
     "execution_count": 28,
     "metadata": {},
     "output_type": "execute_result"
    },
    {
     "data": {
      "image/png": "[encoded data removed]",
      "text/plain": [
       "<Figure size 432x288 with 1 Axes>"
      ]
     },
     "metadata": {
      "needs_background": "light"
     },
     "output_type": "display_data"
    }
   ],
   "source": [
    "#Scatterplot showing relationship between Wind Speed and Latitude - NORTHERN HEMISPHERE\n",
    "northernhemi_df.plot.scatter('Latitude', 'Wind Speed',s=None,c=None,)"
   ]
  },
  {
   "cell_type": "code",
   "execution_count": 29,
   "metadata": {},
   "outputs": [
    {
     "data": {
      "text/plain": [
       "<matplotlib.axes._subplots.AxesSubplot at 0x25d2613df08>"
      ]
     },
     "execution_count": 29,
     "metadata": {},
     "output_type": "execute_result"
    },
    {
     "data": {
      "image/png": "[encoded data removed]",
      "text/plain": [
       "<Figure size 432x288 with 1 Axes>"
      ]
     },
     "metadata": {
      "needs_background": "light"
     },
     "output_type": "display_data"
    }
   ],
   "source": [
    "#Scatterplot showing relationship between Wind Speed and Latitude - SOUTHERN HEMISPHERE\n",
    "southernhemi_df.plot.scatter('Latitude', 'Wind Speed',s=None,c=None,)"
   ]
  },
  {
   "cell_type": "code",
   "execution_count": null,
   "metadata": {},
   "outputs": [],
   "source": []
  }
 ],
 "metadata": {
  "kernelspec": {
   "display_name": "Python 3",
   "language": "python",
   "name": "python3"
  },
  "language_info": {
   "codemirror_mode": {
    "name": "ipython",
    "version": 3
   },
   "file_extension": ".py",
   "mimetype": "text/x-python",
   "name": "python",
   "nbconvert_exporter": "python",
   "pygments_lexer": "ipython3",
   "version": "3.7.4"
  }
 },
 "nbformat": 4,
 "nbformat_minor": 2
}
