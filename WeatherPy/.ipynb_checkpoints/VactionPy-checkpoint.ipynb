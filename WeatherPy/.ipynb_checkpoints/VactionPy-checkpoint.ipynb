{
 "cells": [
  {
   "cell_type": "code",
   "execution_count": 1,
   "metadata": {},
   "outputs": [],
   "source": [
    "# Dependencies and Setup\n",
    "import matplotlib.pyplot as plt\n",
    "import pandas as pd\n",
    "import numpy as np\n",
    "import requests\n",
    "import gmaps\n",
    "import os\n",
    "\n",
    "# Import API key\n",
    "from api_keys import g_key"
   ]
  },
  {
   "cell_type": "code",
   "execution_count": 2,
   "metadata": {},
   "outputs": [],
   "source": [
    "#Name dataframe for cleaned data csv\n",
    "csv = \"cities.csv\"\n",
    "\n",
    "#Read the data\n",
    "cities_df = pd.read_csv(csv)"
   ]
  },
  {
   "cell_type": "code",
   "execution_count": 3,
   "metadata": {},
   "outputs": [
    {
     "data": {
      "text/html": [
       "<div>\n",
       "<style scoped>\n",
       "    .dataframe tbody tr th:only-of-type {\n",
       "        vertical-align: middle;\n",
       "    }\n",
       "\n",
       "    .dataframe tbody tr th {\n",
       "        vertical-align: top;\n",
       "    }\n",
       "\n",
       "    .dataframe thead th {\n",
       "        text-align: right;\n",
       "    }\n",
       "</style>\n",
       "<table border=\"1\" class=\"dataframe\">\n",
       "  <thead>\n",
       "    <tr style=\"text-align: right;\">\n",
       "      <th></th>\n",
       "      <th>Unnamed: 0</th>\n",
       "      <th>City</th>\n",
       "      <th>Temperature</th>\n",
       "      <th>Humidity</th>\n",
       "      <th>Cloudiness</th>\n",
       "      <th>Wind Speed</th>\n",
       "      <th>Latitude</th>\n",
       "      <th>Longitude</th>\n",
       "    </tr>\n",
       "  </thead>\n",
       "  <tbody>\n",
       "    <tr>\n",
       "      <td>0</td>\n",
       "      <td>0</td>\n",
       "      <td>Severo-Kuril'sk</td>\n",
       "      <td>26.74</td>\n",
       "      <td>91</td>\n",
       "      <td>28</td>\n",
       "      <td>17.47</td>\n",
       "      <td>50.68</td>\n",
       "      <td>156.12</td>\n",
       "    </tr>\n",
       "    <tr>\n",
       "      <td>1</td>\n",
       "      <td>1</td>\n",
       "      <td>Chui</td>\n",
       "      <td>66.29</td>\n",
       "      <td>81</td>\n",
       "      <td>2</td>\n",
       "      <td>9.91</td>\n",
       "      <td>-33.70</td>\n",
       "      <td>-53.46</td>\n",
       "    </tr>\n",
       "    <tr>\n",
       "      <td>2</td>\n",
       "      <td>2</td>\n",
       "      <td>Kavaratti</td>\n",
       "      <td>86.02</td>\n",
       "      <td>64</td>\n",
       "      <td>1</td>\n",
       "      <td>2.08</td>\n",
       "      <td>10.57</td>\n",
       "      <td>72.64</td>\n",
       "    </tr>\n",
       "    <tr>\n",
       "      <td>3</td>\n",
       "      <td>3</td>\n",
       "      <td>Mataura</td>\n",
       "      <td>44.01</td>\n",
       "      <td>82</td>\n",
       "      <td>45</td>\n",
       "      <td>7.00</td>\n",
       "      <td>-46.19</td>\n",
       "      <td>168.86</td>\n",
       "    </tr>\n",
       "    <tr>\n",
       "      <td>4</td>\n",
       "      <td>4</td>\n",
       "      <td>Tuatapere</td>\n",
       "      <td>44.01</td>\n",
       "      <td>82</td>\n",
       "      <td>54</td>\n",
       "      <td>7.00</td>\n",
       "      <td>-46.13</td>\n",
       "      <td>167.68</td>\n",
       "    </tr>\n",
       "  </tbody>\n",
       "</table>\n",
       "</div>"
      ],
      "text/plain": [
       "   Unnamed: 0             City  Temperature  Humidity  Cloudiness  Wind Speed  \\\n",
       "0           0  Severo-Kuril'sk        26.74        91          28       17.47   \n",
       "1           1             Chui        66.29        81           2        9.91   \n",
       "2           2        Kavaratti        86.02        64           1        2.08   \n",
       "3           3          Mataura        44.01        82          45        7.00   \n",
       "4           4        Tuatapere        44.01        82          54        7.00   \n",
       "\n",
       "   Latitude  Longitude  \n",
       "0     50.68     156.12  \n",
       "1    -33.70     -53.46  \n",
       "2     10.57      72.64  \n",
       "3    -46.19     168.86  \n",
       "4    -46.13     167.68  "
      ]
     },
     "execution_count": 3,
     "metadata": {},
     "output_type": "execute_result"
    }
   ],
   "source": [
    "cities_df.head()"
   ]
  },
  {
   "cell_type": "code",
   "execution_count": 4,
   "metadata": {},
   "outputs": [],
   "source": [
    "locations = cities_df[['Latitude','Longitude']].astype(float)\n",
    "cities_df = cities_df.dropna()\n",
    "humidity = cities_df['Humidity'].astype(float)"
   ]
  },
  {
   "cell_type": "code",
   "execution_count": 5,
   "metadata": {},
   "outputs": [
    {
     "data": {
      "application/vnd.jupyter.widget-view+json": {
       "model_id": "3a6c504ff1b84d84afc1384e2ad7a4a6",
       "version_major": 2,
       "version_minor": 0
      },
      "text/plain": [
       "Figure(layout=FigureLayout(height='420px'))"
      ]
     },
     "metadata": {},
     "output_type": "display_data"
    }
   ],
   "source": [
    "gmaps.configure(api_key=g_key)\n",
    "fig = gmaps.figure()\n",
    "heat_layer = gmaps.heatmap_layer(locations, weights=humidity, \n",
    "                                 dissipating=False, max_intensity=100,\n",
    "                                 point_radius = 1)\n",
    "\n",
    "fig.add_layer(heat_layer)\n",
    "\n",
    "fig"
   ]
  },
  {
   "cell_type": "code",
   "execution_count": null,
   "metadata": {},
   "outputs": [],
   "source": []
  }
 ],
 "metadata": {
  "kernelspec": {
   "display_name": "Python 3",
   "language": "python",
   "name": "python3"
  },
  "language_info": {
   "codemirror_mode": {
    "name": "ipython",
    "version": 3
   },
   "file_extension": ".py",
   "mimetype": "text/x-python",
   "name": "python",
   "nbconvert_exporter": "python",
   "pygments_lexer": "ipython3",
   "version": "3.7.4"
  }
 },
 "nbformat": 4,
 "nbformat_minor": 2
}
